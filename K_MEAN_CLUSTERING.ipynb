{
  "nbformat": 4,
  "nbformat_minor": 0,
  "metadata": {
    "colab": {
      "private_outputs": true,
      "provenance": []
    },
    "kernelspec": {
      "name": "python3",
      "display_name": "Python 3"
    },
    "language_info": {
      "name": "python"
    }
  },
  "cells": [
    {
      "cell_type": "code",
      "execution_count": null,
      "metadata": {
        "id": "C19AgUyNBRV4"
      },
      "outputs": [],
      "source": [
        "import pandas as pd\n",
        "import numpy as np\n",
        "import matplotlib.pyplot as plt\n",
        "from sklearn.model_selection import train_test_split\n",
        "from sklearn.cluster import KMeans\n",
        "from sklearn.metrics import accuracy_score, confusion_matrix\n",
        "import warnings\n",
        "warnings.filterwarnings(\"ignore\")"
      ]
    },
    {
      "cell_type": "code",
      "source": [
        "from google.colab import drive\n",
        "drive.mount('/content/drive')"
      ],
      "metadata": {
        "id": "1AysoWkfGkNo"
      },
      "execution_count": null,
      "outputs": []
    },
    {
      "cell_type": "code",
      "source": [
        "from os import path\n",
        "path = '/content/drive/MyDrive/csv/Shopping_CustomerData.csv'\n",
        "df = pd.read_csv(path)\n",
        "\n",
        "df.describe()"
      ],
      "metadata": {
        "id": "DCOhJNCvG-Ee"
      },
      "execution_count": null,
      "outputs": []
    },
    {
      "cell_type": "code",
      "source": [
        "df_new =df[[\"CustomerAge\",\"SpendingScore\"]]\n",
        "df_new.head"
      ],
      "metadata": {
        "id": "oR8ofn9QHheB"
      },
      "execution_count": null,
      "outputs": []
    },
    {
      "cell_type": "code",
      "source": [
        "df_new.describe()"
      ],
      "metadata": {
        "id": "upg_QGSLICWP"
      },
      "execution_count": null,
      "outputs": []
    },
    {
      "cell_type": "code",
      "source": [
        "df_new.isnull().sum()"
      ],
      "metadata": {
        "id": "Sth14tyyIGT8"
      },
      "execution_count": null,
      "outputs": []
    },
    {
      "cell_type": "code",
      "source": [
        "df.plot(kind='scatter' , x='CustomerAge', y='SpendingScore')\n",
        "plt.xlabel('Usia Pembeli')\n",
        "plt.ylabel('Pendapatan Skor')\n",
        "plt.title(\"Unlustering data\")\n",
        "plt.show()"
      ],
      "metadata": {
        "id": "FnKG4jrEIboo"
      },
      "execution_count": null,
      "outputs": []
    },
    {
      "cell_type": "code",
      "source": [
        "k=3\n",
        "np.random.seed(40)\n",
        "\n",
        "random_centroids=[]\n",
        "for i in range(1,k+1):\n",
        "  random_centroids.append([np.random.randint(1,100), np.random.randint(1,100)])\n",
        "print('randomly selected points as random_centeroids:' , random_centroids)"
      ],
      "metadata": {
        "id": "wT4bz6XRJPwL"
      },
      "execution_count": null,
      "outputs": []
    },
    {
      "cell_type": "code",
      "source": [
        "plt.figure(figsize=(5,5))\n",
        "plt.scatter(df_new.iloc[:,0], df_new.iloc[:,1], color='cyan')\n",
        "length = len(random_centroids)\n",
        "colors1=['r','g','b','cyan','yellow','black']\n",
        "for i in range(length):\n",
        "  plt.scatter(*random_centroids[i],color=colors1[i])\n",
        "plt.xlabel('CustomerAge')\n",
        "plt.ylabel('SpendingScore')\n",
        "plt.show()"
      ],
      "metadata": {
        "id": "CoW3NNtsKXsp"
      },
      "execution_count": null,
      "outputs": []
    },
    {
      "cell_type": "code",
      "source": [
        "#Langkah kedua\n",
        "\n",
        "#Here, we are calculating the distance between the datapoints and our centroids and assigning each data-point to the closest cluster\n",
        "def assignment(df_new,random_centroids):\n",
        "\n",
        "  for i in range(length) :\n",
        "    df_new['Distance from Centroid {}'.format(i)]=(np.sqrt((df_new.iloc[:,0] - random_centroids[i][0]) ** 2 + (df_new.iloc[:,1] - random_centroids[i][1]) ** 2))\n",
        "   \n",
        "  list1=[]\n",
        "  list2=[]\n",
        "  for a,b,c in zip(df_new['Distance from Centroid 0'],df_new['Distance from Centroid 1'],df_new['Distance from Centroid 2']):\n",
        "    d = min(a,b,c)\n",
        "   \n",
        "    if d == a:\n",
        "      list1.append(0)\n",
        "      list2.append('r')\n",
        "    elif d == b:\n",
        "      list1.append(1)\n",
        "      list2.append('g')\n",
        "    else:\n",
        "      list1.append(2)\n",
        "      list2.append('b')\n",
        "  df_new['Closest_Centroid'] = list1\n",
        "  df_new['Color']=list2\n",
        "  return df_new"
      ],
      "metadata": {
        "id": "WBAm4lPgMRr3"
      },
      "execution_count": null,
      "outputs": []
    },
    {
      "cell_type": "code",
      "source": [
        "df_new = assignment(df_new, random_centroids)\n",
        "df_new.head()"
      ],
      "metadata": {
        "id": "nXNWhDS2cFPl"
      },
      "execution_count": null,
      "outputs": []
    },
    {
      "cell_type": "code",
      "source": [
        "plt.figure(figsize=(5,5))\n",
        "plt.scatter(df_new.iloc[:,0],df_new.iloc[:,1],color =df_new['Color'],alpha = 0.5,edgecolor = 'K')\n",
        "for i in range(length):\n",
        "  plt.scatter(*random_centroids[i],color=colors1[i])"
      ],
      "metadata": {
        "id": "ptcArajdcRvI"
      },
      "execution_count": null,
      "outputs": []
    },
    {
      "cell_type": "code",
      "source": [
        "def update(parameter):\n",
        "    for i in range(length):\n",
        "        random_centroids[i][0] = np.mean(df_new[df_new['Closest_Centroid'] == i]['CustomerAge'])\n",
        "    return parameter    "
      ],
      "metadata": {
        "id": "ZTw9Z3BAhMhx"
      },
      "execution_count": null,
      "outputs": []
    },
    {
      "cell_type": "code",
      "source": [
        "random_centroids = update(random_centroids)\n",
        "random_centroids"
      ],
      "metadata": {
        "id": "tiWl5ky9kMYD"
      },
      "execution_count": null,
      "outputs": []
    },
    {
      "cell_type": "code",
      "source": [
        "df_new = assignment(df_new, random_centroids)\n",
        "df_new.head()\n",
        "plt.figure(figsize=(5, 5))\n",
        "plt.scatter(df_new.iloc[:,0], df_new.iloc[:,1], color=df_new['Color'], alpha=0.5, edgecolor='k')\n",
        "for i in range(length):\n",
        "  plt.scatter(*random_centroids[i], color=colors1[i])\n",
        "plt.show() "
      ],
      "metadata": {
        "id": "Lc0DCoESkWVf"
      },
      "execution_count": null,
      "outputs": []
    },
    {
      "cell_type": "code",
      "source": [
        "count=1\n",
        "while True:\n",
        "  old_random_centroids = np.round(random_centroids)\n",
        "  print('Old Centroid' ,old_random_centroids)\n",
        "  count+=1\n",
        "  random_centroids = update(random_centroids)\n",
        "\n",
        "  new_random_centroids = np.round(random_centroids)\n",
        "  print('New Centroid' ,new_random_centroids)\n",
        "\n",
        "  df_new =  assignment(df_new, random_centroids)\n",
        "  result=np.allclose(old_random_centroids,new_random_centroids)\n",
        "  print(result)\n",
        "  if result ==  True:\n",
        "    break\n",
        "\n",
        "\n",
        "print(count)"
      ],
      "metadata": {
        "id": "HOm14-kxBe7e"
      },
      "execution_count": null,
      "outputs": []
    },
    {
      "cell_type": "code",
      "source": [
        "plt.figure(figsize=(5, 5))\n",
        "plt.scatter(df_new.iloc[:,0], df_new.iloc[:,1], color=df_new['Color'], alpha=0.5, edgecolor='k')\n",
        "plt.show()"
      ],
      "metadata": {
        "id": "OlRekFzzEMdE"
      },
      "execution_count": null,
      "outputs": []
    },
    {
      "cell_type": "code",
      "source": [
        "df = df[[\"CustomerAge\", \"SpendingScore\"]]\n",
        "df.head()"
      ],
      "metadata": {
        "id": "rS9pYzV_GCB2"
      },
      "execution_count": null,
      "outputs": []
    },
    {
      "cell_type": "code",
      "source": [
        "kmeans = KMeans(n_clusters=3)\n",
        "kmeans.fit(df)"
      ],
      "metadata": {
        "id": "PF2BuZ7NHXP2"
      },
      "execution_count": null,
      "outputs": []
    },
    {
      "cell_type": "code",
      "source": [
        "labels = kmeans.predict(df)\n",
        "labels"
      ],
      "metadata": {
        "id": "y_i5u1CoHp4q"
      },
      "execution_count": null,
      "outputs": []
    },
    {
      "cell_type": "code",
      "source": [
        "centroids = kmeans.cluster_centers_\n",
        "centroids"
      ],
      "metadata": {
        "id": "FdyZrVmGH12-"
      },
      "execution_count": null,
      "outputs": []
    },
    {
      "cell_type": "code",
      "source": [
        "kmeans.inertia_"
      ],
      "metadata": {
        "id": "RTHX2vtmIEXw"
      },
      "execution_count": null,
      "outputs": []
    },
    {
      "cell_type": "code",
      "source": [
        "plt.figure(figsize=(10, 5))\n",
        "colmap = {1:'y',2:'g',3:'b',4:'r',5:'c'}\n",
        "colors = map(lambda x: colmap[x+1], labels)\n",
        "print(colors)\n",
        "colors1=list(colors)\n",
        "plt.scatter(df['CustomerAge'], df['SpendingScore'], color=colors1, alpha=0.5)\n",
        "for idx, centroid in enumerate(centroids):\n",
        "  plt.scatter(*centroid, color=colmap[idx+1])\n",
        "plt.xlabel('usia')\n",
        "plt.ylabel('pendapatan skor')\n",
        "plt.title('plot ter-clusterasi k-means')\n",
        "plt.show()"
      ],
      "metadata": {
        "id": "UDfK2ATOIIf4"
      },
      "execution_count": null,
      "outputs": []
    },
    {
      "cell_type": "code",
      "source": [
        "inertia_list = []\n",
        "for num_clusters in np.arange(1, 21):\n",
        "  kmeans =KMeans(n_clusters=num_clusters)\n",
        "  kmeans.fit(df)\n",
        "  inertia_list.append(kmeans.inertia_)"
      ],
      "metadata": {
        "id": "ESLH--gAIVgJ"
      },
      "execution_count": null,
      "outputs": []
    },
    {
      "cell_type": "code",
      "source": [
        "plt.figure(figsize=(10, 5))\n",
        "plt.plot(np.arange(1, 21), inertia_list, color='blue')\n",
        "plt.scatter(np.arange(1, 21), inertia_list, color='red')\n",
        "plt.grid(True)\n",
        "plt.xlabel('Nilain dari k')\n",
        "plt.ylabel('Nilai inertia')\n",
        "plt.title('Elbow Curve')\n",
        "plt.show()"
      ],
      "metadata": {
        "id": "89DIlL7JKgbi"
      },
      "execution_count": null,
      "outputs": []
    }
  ]
}